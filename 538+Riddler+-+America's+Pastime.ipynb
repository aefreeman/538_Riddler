{
 "cells": [
  {
   "cell_type": "markdown",
   "metadata": {},
   "source": [
    "# America's Pastime\n",
    "From: https://fivethirtyeight.com/features/can-you-turn-americas-pastime-into-a-game-of-yahtzee/\n",
    "In this notebook, the classic riddler will be solved in two different ways: by Monte Carlo Simulation and by Markov Chains.\n",
    "First, for the Monte Carlo, we set up our game:"
   ]
  },
  {
   "cell_type": "code",
   "execution_count": 108,
   "metadata": {
    "collapsed": true
   },
   "outputs": [],
   "source": [
    "import random\n",
    "rolls={\n",
    "    (1, 1): 'double',\n",
    "    (1, 2): 'single',\n",
    "    (1, 3): 'single',\n",
    "    (1, 4): 'single',\n",
    "    (1, 5): 'base on error',\n",
    "    (1, 6): 'base on balls',\n",
    "    (2, 2): 'strike',\n",
    "    (2, 3): 'strike',\n",
    "    (2, 4): 'strike',\n",
    "    (2, 5): 'strike',\n",
    "    (2, 6): 'foul out',\n",
    "    (3, 3): 'out at 1st',\n",
    "    (3, 4): 'out at 1st',\n",
    "    (3, 5): 'out at 1st',\n",
    "    (3, 6): 'out at 1st',\n",
    "    (4, 4): 'fly out',\n",
    "    (4, 5): 'fly out',\n",
    "    (4, 6): 'fly out',\n",
    "    (5, 5): 'double play',\n",
    "    (5, 6): 'triple',\n",
    "    (6, 6): 'home run'\n",
    "    }\n",
    "def dice_roll():\n",
    "    dice = tuple(sorted(random.choices(range(1,7),k=2)))\n",
    "    roll_rslt = rolls[dice]\n",
    "    return roll_rslt\n",
    "class Play:\n",
    "    def __init__(self, bases, strikes, outs, runs, inning):\n",
    "        self.bases = bases\n",
    "        self.strikes = strikes\n",
    "        self.outs = outs\n",
    "        self.runs = runs\n",
    "        self.inning = inning\n",
    "    @classmethod        \n",
    "    def single(cls, self):\n",
    "        new_bases = [1,self.bases[0],0]\n",
    "        runs = self.bases[1]+self.bases[2]\n",
    "        return cls(new_bases, 0, self.outs, self.runs+runs, self.inning)\n",
    "    @classmethod\n",
    "    def double(cls, self):\n",
    "        new_bases = [0,1,self.bases[0]]\n",
    "        runs = self.bases[1]+self.bases[2]\n",
    "        return cls(new_bases, 0, self.outs, self.runs+runs, self.inning)\n",
    "    @classmethod\n",
    "    def base_on_errors(cls, self):\n",
    "        #Assume all runners advance one base (as opposed to multiple if the ball is thrown out of play)\n",
    "        new_bases = [1, self.bases[0], self.bases[1]]\n",
    "        runs = self.bases[2]\n",
    "        return cls(new_bases, 0, self.outs, self.runs+runs, self.inning)\n",
    "    @classmethod\n",
    "    def base_on_balls(cls, self):\n",
    "        #Only advance runners if they are forced to\n",
    "        new_bases = [1, self.bases[0], (self.bases[1]+self.bases[0])//2]\n",
    "        runs = (self.bases[2]+self.bases[1]+self.bases[0])//3\n",
    "        return cls(new_bases, 0, self.outs, self.runs+runs, self.inning)\n",
    "    @classmethod\n",
    "    def strike(cls, self):\n",
    "        inning = self.inning\n",
    "        bases = self.bases\n",
    "        new_strikes = self.strikes\n",
    "        if self.strikes == 2:\n",
    "            new_outs = self.outs +1\n",
    "            if new_outs == 3:\n",
    "                new_outs = 0\n",
    "                inning += 1\n",
    "                bases = [0,0,0]\n",
    "            new_strikes = 0\n",
    "        else:\n",
    "            new_outs = self.outs\n",
    "            new_strikes +=1\n",
    "        return cls(bases, new_strikes, new_outs, self.runs, inning)\n",
    "    @classmethod\n",
    "    def foul_out(cls, self):\n",
    "        inning = self.inning\n",
    "        bases = self.bases\n",
    "        new_outs = self.outs +1\n",
    "        if new_outs == 3:\n",
    "            new_outs = 0\n",
    "            inning += 1\n",
    "            bases = [0,0,0]\n",
    "        return cls(bases, 0, new_outs, self.runs, inning) \n",
    "    @classmethod\n",
    "    def out_at_first(cls, self):\n",
    "        inning = self.inning\n",
    "        bases = self.bases\n",
    "        new_outs = self.outs +1\n",
    "        runs = self.runs\n",
    "        #if three outs, no runs score\n",
    "        if new_outs == 3:\n",
    "            new_outs = 0\n",
    "            inning += 1\n",
    "            bases = [0,0,0]\n",
    "        else:\n",
    "            bases = [0, self.bases[0], self.bases[1]]\n",
    "            runs += self.bases[2]\n",
    "        return cls(bases, 0, new_outs, runs, inning) \n",
    "    @classmethod\n",
    "    def fly_out(cls, self):\n",
    "        inning = self.inning\n",
    "        bases = self.bases\n",
    "        new_outs = self.outs +1\n",
    "        runs = self.runs\n",
    "        if new_outs == 3:\n",
    "            new_outs = 0\n",
    "            inning += 1\n",
    "            bases = [0,0,0]\n",
    "        else:\n",
    "            bases = [self.bases[0], self.bases[1],0]\n",
    "            runs += self.bases[2]\n",
    "        return cls(bases, 0, new_outs, runs, inning) \n",
    "    @classmethod\n",
    "    def double_play(cls, self):\n",
    "        inning = self.inning\n",
    "        bases = self.bases\n",
    "        new_outs = self.outs +1\n",
    "        if not self.bases[0] == self.bases[1] == self.bases[2] == 0:\n",
    "            new_outs += 1\n",
    "        runs = self.runs\n",
    "        if new_outs >= 3:\n",
    "            new_outs = 0\n",
    "            inning += 1\n",
    "            bases = [0,0,0]\n",
    "        else:\n",
    "            if self.bases[0] == 1:\n",
    "                bases = [0, 0, self.bases[1]]\n",
    "                runs += self.bases[2]\n",
    "            elif self.bases[2] == 1:\n",
    "                bases = [0, 0, self.bases[1]]\n",
    "            else:\n",
    "                bases = [0, 0, 0]\n",
    "        return cls(bases, 0, new_outs, runs, inning) \n",
    "    @classmethod\n",
    "    def triple(cls, self):\n",
    "        bases = [0,0,1]\n",
    "        runs = self.bases[0] + self.bases[1]+self.bases[2]\n",
    "        return cls(bases, 0, self.outs, self.runs+runs, self.inning)\n",
    "    @classmethod\n",
    "    def home_run(cls, self):\n",
    "        bases = [0,0,0]\n",
    "        runs = self.bases[0] + self.bases[1]+self.bases[2] + 1\n",
    "        return cls(bases,0,self.outs,self.runs+runs, self.inning)\n",
    "funcs = {\n",
    "    'single':Play.single,\n",
    "    'double':Play.double,\n",
    "    'base on balls': Play.base_on_balls,\n",
    "    'base on error': Play.base_on_errors,\n",
    "    'strike': Play.strike,\n",
    "    'foul out': Play.foul_out,\n",
    "    'fly out': Play.fly_out,\n",
    "    'out at 1st': Play.out_at_first,\n",
    "    'double play': Play.double_play,\n",
    "    'triple': Play.triple,\n",
    "    'home run': Play.home_run\n",
    "}\n"
   ]
  },
  {
   "cell_type": "markdown",
   "metadata": {},
   "source": [
    "Now, we can play our game:"
   ]
  },
  {
   "cell_type": "code",
   "execution_count": 77,
   "metadata": {},
   "outputs": [
    {
     "name": "stdout",
     "output_type": "stream",
     "text": [
      "8\n"
     ]
    }
   ],
   "source": [
    "team = Play([0,0,0],0,0,0,0)\n",
    "while team.inning <= 9:\n",
    "    dice = dice_roll()\n",
    "    team = funcs[dice](team)\n",
    "print(team.runs)"
   ]
  },
  {
   "cell_type": "markdown",
   "metadata": {},
   "source": [
    "Great! Now let's add in another team and see how they do against each other:"
   ]
  },
  {
   "cell_type": "code",
   "execution_count": 78,
   "metadata": {},
   "outputs": [
    {
     "name": "stdout",
     "output_type": "stream",
     "text": [
      "{1: 15, 2: 15}\n"
     ]
    }
   ],
   "source": [
    "team1 = Play([0,0,0],0,0,0,0)\n",
    "team2 = Play([0,0,0],0,0,0,0)\n",
    "team = {1: team1, 2:team2}\n",
    "runs = {1: 0, 2: 0}\n",
    "for i in [1, 2]:\n",
    "    while team[i].inning <= 9:\n",
    "        dice = dice_roll()\n",
    "        team[i] = funcs[dice](team[i])\n",
    "    runs[i] = team[i].runs\n",
    "print(runs)"
   ]
  },
  {
   "cell_type": "markdown",
   "metadata": {},
   "source": [
    "Now we can play games! First, we have to add in two pieces of information about baseball: there are no ties, and if one team is ahead, the bottom of the 9th inning is not played. Let's make team 2 the home team, and play a full season (162 games):"
   ]
  },
  {
   "cell_type": "code",
   "execution_count": 79,
   "metadata": {},
   "outputs": [
    {
     "name": "stdout",
     "output_type": "stream",
     "text": [
      "Mean: 13.8703703704\n",
      "Std. Dev: 5.55070776144\n"
     ]
    },
    {
     "data": {
      "image/png": "[encoded data removed]",
      "text/plain": [
       "<matplotlib.figure.Figure at 0x1a259b5b198>"
      ]
     },
     "metadata": {},
     "output_type": "display_data"
    }
   ],
   "source": [
    "import numpy as np\n",
    "import matplotlib.pyplot as plt\n",
    "runs_list = []\n",
    "for j in range(162):\n",
    "    team1 = Play([0,0,0],0,0,0,1)\n",
    "    team2 = Play([0,0,0],0,0,0,1)\n",
    "    team = {1: team1, 2:team2}\n",
    "    runs = {1: 0, 2: 0}\n",
    "    ot = 0\n",
    "    while 1:\n",
    "        for i in [1, 2]:\n",
    "            if ot == 1:\n",
    "                team[i].inning = 9\n",
    "            while team[i].inning <= 9:\n",
    "                if i == 2 and team2.inning == 8 and runs[2] > runs[1]:\n",
    "                    break\n",
    "                else:\n",
    "                    dice = dice_roll()\n",
    "                    team[i] = funcs[dice](team[i])\n",
    "            runs[i] = team[i].runs\n",
    "        if runs[1] == runs[2]:\n",
    "            ot = 1\n",
    "        else:\n",
    "            break\n",
    "    runs_list.extend([runs[1], runs[2]])\n",
    "num_bins = max(runs_list)-min(runs_list)\n",
    "print('Mean: %s\\nStd. Dev: %s' %(np.average(runs_list), np.std(runs_list)))\n",
    "n, bins, patches = plt.hist(runs_list, num_bins, facecolor='blue')\n",
    "plt.show()"
   ]
  },
  {
   "cell_type": "markdown",
   "metadata": {},
   "source": [
    "Our data seems to be centered somewhere around 14 runs. Let's try bumping up our number of samples to a million and see if we can make our data look closer to a bell curve:"
   ]
  },
  {
   "cell_type": "code",
   "execution_count": 110,
   "metadata": {},
   "outputs": [
    {
     "name": "stdout",
     "output_type": "stream",
     "text": [
      "Mean: 13.8464835\n",
      "Std. Dev: 5.87075558887\n"
     ]
    },
    {
     "data": {
      "image/png": "[encoded data removed]",
      "text/plain": [
       "<matplotlib.figure.Figure at 0x1a259b08cf8>"
      ]
     },
     "metadata": {},
     "output_type": "display_data"
    }
   ],
   "source": [
    "runs_list = []\n",
    "for j in range(1000000):\n",
    "    team1 = Play([0,0,0],0,0,0,1)\n",
    "    team2 = Play([0,0,0],0,0,0,1)\n",
    "    team = {1: team1, 2:team2}\n",
    "    runs = {1: 0, 2: 0}\n",
    "    ot = 0\n",
    "    while 1:\n",
    "        for i in [1, 2]:\n",
    "            if ot == 1:\n",
    "                team[i].inning = 9\n",
    "            while team[i].inning <= 9:\n",
    "                if i == 2 and team2.inning == 8 and runs[2] > runs[1]:\n",
    "                    break\n",
    "                else:\n",
    "                    dice = dice_roll()\n",
    "                    team[i] = funcs[dice](team[i])\n",
    "            runs[i] = team[i].runs\n",
    "        if runs[1] == runs[2]:\n",
    "            ot = 1\n",
    "        else:\n",
    "            break\n",
    "    runs_list.extend([runs[1], runs[2]])\n",
    "num_bins = max(runs_list)-min(runs_list)\n",
    "print('Mean: %s\\nStd. Dev: %s' %(np.average(runs_list), np.std(runs_list)))\n",
    "n, bins, patches = plt.hist(runs_list, num_bins, facecolor='blue')\n",
    "plt.show()"
   ]
  },
  {
   "cell_type": "markdown",
   "metadata": {},
   "source": [
    "There we go. So our average is 13.85 and our standard deviation is 5.87. Now let's see if we can confirm that using Markov Chains and probability. First, we rewrite our rules a little: we're going to substitute strikes for strikeouts just to keep it at bat by at bat as opposed to pitch by pitch:"
   ]
  },
  {
   "cell_type": "code",
   "execution_count": 99,
   "metadata": {
    "collapsed": true
   },
   "outputs": [],
   "source": [
    "class Rule():\n",
    "    def __init__(self, first, second, third, outs, runs):\n",
    "        self.first = first\n",
    "        self.second = second\n",
    "        self.third = third\n",
    "        self.outs = outs\n",
    "        self.runs = runs\n",
    "    @classmethod\n",
    "    def single(cls, self):\n",
    "        return cls(1, self.first, 0,self.outs, self.runs+self.second+self.third)\n",
    "    @classmethod\n",
    "    def double(cls,self):\n",
    "        return cls(0, 1, self.first, self.outs, self.runs+self.second+self.third)\n",
    "    @classmethod\n",
    "    def error(cls, self):\n",
    "        #Treat error as dropped at first, not thrown into stands: runner on second won't score\n",
    "        return cls(1, self.first, self.second, self.outs, self.runs+self.third)\n",
    "    @classmethod\n",
    "    def walk(cls, self):\n",
    "        return cls(1,self.first,(self.second+self.first)//2,self.outs, (self.runs+self.third+self.second+self.first)//3)\n",
    "    @classmethod\n",
    "    def strikeout(cls, self):\n",
    "        #To make it easier, we substitute strikes for strikeouts. The probability will be accounted for later\n",
    "        return cls(self.first, self.second, self.third, self.outs+1, self.runs)\n",
    "    @classmethod\n",
    "    def foulout(cls, self):\n",
    "        return cls(self.first, self.second, self.third, self.outs+1, self.runs)\n",
    "    @classmethod\n",
    "    def out_at_one(cls, self):\n",
    "        #Runs don't count if three outs are made and there is a force play\n",
    "        if self.outs == 2:\n",
    "            runs = self.runs\n",
    "        else:\n",
    "            runs = self.runs + self.third\n",
    "        return cls(0, self.first, self.second, self.outs+1, runs)\n",
    "    @classmethod\n",
    "    def flyout(cls, self):\n",
    "        if self.outs == 2:\n",
    "            runs = self.runs\n",
    "        else:\n",
    "            runs = self.runs + self.third\n",
    "        return cls(self.first, self.second, 0, self.outs+1, runs)\n",
    "    @classmethod\n",
    "    def double_play(cls, self):\n",
    "        runs = self.runs\n",
    "        if self.first == 1:\n",
    "            if self.outs ==0:\n",
    "                runs += self.third\n",
    "            return cls(0, 0, self.second, min(self.outs+2, 3), runs)\n",
    "        elif self.third == 1:\n",
    "            return cls(0, 0, self.second, min(self.outs+2, 3), self.runs)\n",
    "        elif self.second ==1:\n",
    "            #In practice, this runner likely wouldn't be thrown out, but we use it here to stick to the rules as closely as possible\n",
    "            return cls(0, 0,0,min(self.outs+2, 3), self.runs)\n",
    "        else:\n",
    "            return cls(0,0,0, self.outs+1, self.runs)\n",
    "    @classmethod\n",
    "    def triple(cls, self):\n",
    "        return cls(0,0,1, self.outs, self.runs+self.first+self.second+self.third)\n",
    "    @classmethod\n",
    "    def home_run(cls, self):\n",
    "        return cls(0,0,0,self.outs, self.runs+self.first+self.second+self.third+1)"
   ]
  },
  {
   "cell_type": "markdown",
   "metadata": {},
   "source": [
    "Now let's set up our transition matrix. We're going to represent every situation as a list of 5 parameters: first base, second base, third base, outs, and runs scored. For bases, 1 means a guy is on base, 0 means the base is empty. "
   ]
  },
  {
   "cell_type": "code",
   "execution_count": 100,
   "metadata": {},
   "outputs": [],
   "source": [
    "#F,S,T,O,R:\n",
    "name_matrix = []\n",
    "#The matrix should have all combinations of bases, outs, and runs in a square matrix:\n",
    "for q in range(2*2*2*5*4):\n",
    "    tmp_matrix = []\n",
    "    p_tmp = []\n",
    "    for i in range(2):\n",
    "        for j in range(2):\n",
    "            for k in range(2):\n",
    "                for l in range(4):\n",
    "                    for m in range(5):\n",
    "                        tmp_matrix.append([i,j,k,l,m])\n",
    "    name_matrix.append(tmp_matrix)\n",
    "#The first row of the matrix represents all possible combinations of bases, runs, and outs:\n",
    "starts = name_matrix[0]"
   ]
  },
  {
   "cell_type": "markdown",
   "metadata": {},
   "source": [
    "Now let's figure out our probabilities. Since we converted strikes to strikeouts, we need to figure out our adjusted probabilities. For event x, this becomes $x + x*k + x*k^{2}$ where x is the probability of the event and k is the probability of a strike. This corresponds to a ball in play with 0 strikes, one strike, or two strikes."
   ]
  },
  {
   "cell_type": "code",
   "execution_count": 101,
   "metadata": {},
   "outputs": [
    {
     "name": "stdout",
     "output_type": "stream",
     "text": [
      "[0.2053755144032922, 0.0342292524005487, 0.0684585048010974, 0.0684585048010974, 0.007351680384087792, 0.0684585048010974, 0.2396047668038409, 0.1711462620027435, 0.0342292524005487, 0.0684585048010974, 0.0342292524005487]\n"
     ]
    }
   ],
   "source": [
    "k_factor = (1+7/36+(7/36)**2)\n",
    "funcs = {'single': [Rule.single, (6/36)*k_factor],\n",
    "        'double': [Rule.double, 1/36*k_factor],\n",
    "        'error':[Rule.error, 2/36*k_factor],\n",
    "        'walk':[Rule.walk, 2/36*k_factor],\n",
    "        'strikeout':[Rule.strikeout, (7/36)**3],\n",
    "        'foul out': [Rule.foulout, 2/36*k_factor],\n",
    "        'out at 1':[Rule.out_at_one, 7/36*k_factor],\n",
    "        'flyout': [Rule.flyout, 5/36*k_factor],\n",
    "        'double play': [Rule.double_play, 1/36*k_factor],\n",
    "        'triple':[Rule.triple, 2/36*k_factor],\n",
    "        'home run': [Rule.home_run, 1/36*k_factor]\n",
    "        }\n",
    "probs = [funcs[func][1] for func in funcs.keys()]\n",
    "print(probs)"
   ]
  },
  {
   "cell_type": "markdown",
   "metadata": {},
   "source": [
    "Now let's start filling in our transition matrix. For every possible starting state, we're going to run every potential at bat outcome and find the ending state and associate probability."
   ]
  },
  {
   "cell_type": "code",
   "execution_count": 102,
   "metadata": {},
   "outputs": [],
   "source": [
    "ends = []\n",
    "p = []\n",
    "#Possible start to end mapping\n",
    "for start in starts:\n",
    "    p_tmp = []\n",
    "    ends_tmp = []\n",
    "    for func in funcs:\n",
    "        #If we have three outs, stay where we are. If we scored x runs, go to the 0 runs equivalent\n",
    "        #i.e. if we end with (0,0,1,0,1) (man on third, one run scored), go to (0,0,1,0,0)\n",
    "        #This keeps the transition matrix to a finite size. The runs will be calculated later\n",
    "        if start[3] == 3 or start[4] != 0:\n",
    "            ends_tmp.append([start[0], start[1], start[2], start[3], start[4]])\n",
    "        else:            \n",
    "            s_pos = Rule(start[0], start[1], start[2], start[3], start[4])\n",
    "            e_pos = funcs[func][0](s_pos)\n",
    "            ends_tmp.append([e_pos.first, e_pos.second, e_pos.third, e_pos.outs, e_pos.runs])\n",
    "    ends.append(ends_tmp)\n",
    "\n",
    "#Probability of going from start to end\n",
    "for i, start in enumerate(starts):\n",
    "    tmp = [0 for x in starts]\n",
    "    #If we have three outs, loop. This makes the matrix absorbing\n",
    "    if start[3] == 3:\n",
    "        tmp[starts.index(start)] = 1\n",
    "    #Always go to the 0 run equivalent if runs were scored\n",
    "    elif start[4] > 0:\n",
    "        tmp[starts.index([start[0],start[1],start[2],start[3],0])] = 1\n",
    "    else:\n",
    "        endings = ends[i]\n",
    "        for j, end in enumerate(endings):\n",
    "            try:\n",
    "                tmp[starts.index(end)] += probs[j]\n",
    "            except ValueError:\n",
    "                pass\n",
    "    p.append(tmp)"
   ]
  },
  {
   "cell_type": "markdown",
   "metadata": {},
   "source": [
    "Now let's use our transition matrix to find the average number of at bats per inning and the number of runs we can expect. First, we order our matrix so all absorbing rows are at the bottom:"
   ]
  },
  {
   "cell_type": "code",
   "execution_count": 103,
   "metadata": {},
   "outputs": [],
   "source": [
    "absorbing = []\n",
    "absorbing_list = []\n",
    "non_abs = []\n",
    "non_abs_list = []\n",
    "#If the matrix row is absorbing (it goes to itself with probability 1) put it at the end\n",
    "for i, pr in enumerate(p):\n",
    "    if pr[i] == 1:\n",
    "        absorbing.append(pr)\n",
    "        absorbing_list.append(i)\n",
    "    else:\n",
    "        non_abs.append(pr)\n",
    "        non_abs_list.append(i)\n",
    "#The size of the square matrix we will use:\n",
    "length = len(non_abs)\n",
    "comb = non_abs.copy()\n",
    "for row in absorbing:\n",
    "    comb.append(absorbing)"
   ]
  },
  {
   "cell_type": "markdown",
   "metadata": {},
   "source": [
    "Next, we separate out our q and r matrices, where q is all transitions that lead to non-absorbing entries and r is the entires that lead to absorbing entries:"
   ]
  },
  {
   "cell_type": "code",
   "execution_count": 104,
   "metadata": {},
   "outputs": [],
   "source": [
    "mark_p = non_abs\n",
    "mark_q= []\n",
    "mark_r = []\n",
    "mark_I = []\n",
    "for row in mark_p:\n",
    "    tmp_q = [row[i] for i in non_abs_list]\n",
    "    tmp_r = [row[j] for j in absorbing_list]\n",
    "    mark_q.append(tmp_q)\n",
    "    mark_r.append(tmp_r)"
   ]
  },
  {
   "cell_type": "markdown",
   "metadata": {},
   "source": [
    "Finally, we find the N matrix by inverting the identiy matrix minus our q matrix. This represents the average number of times each state is visited in an inning. We get T by multiplying N by a column of 1s to get the average time until absorption. Since innings start with no one on, no one out, the first row of this matrix is our average at bats per inning. Finally, we take the average number of times in each state times the number of runs they represent. This gives us the runs per inning, and multiplying by 9 gives us our runs per game."
   ]
  },
  {
   "cell_type": "code",
   "execution_count": 105,
   "metadata": {},
   "outputs": [
    {
     "name": "stdout",
     "output_type": "stream",
     "text": [
      "ABs per inning: 6.81789400734 \n",
      "Runs per inning: 1.52692733198 \n",
      "Runs per game: 13.7423459878\n"
     ]
    }
   ],
   "source": [
    "mark_n = np.linalg.inv((np.subtract(np.identity(length),mark_q)))\n",
    "mark_t  = np.matmul(mark_n, np.ones((len(mark_n),1)))\n",
    "#Expected time in each state. Sum each * runs per each to get expected runs\n",
    "    #print(mark_n[0])\n",
    "#Expected number of AB's per inning\n",
    "    #print(mark_t[0])\n",
    "#Expected runs/inning\n",
    "runs = 0\n",
    "for i, pos in enumerate(mark_n[0]):\n",
    "    runs += pos*starts[i][4]\n",
    "print('ABs per inning: %s \\nRuns per inning: %s \\nRuns per game: %s' %(mark_t[0][0], runs, runs*9))"
   ]
  },
  {
   "cell_type": "markdown",
   "metadata": {},
   "source": [
    "However, we already said that games are not exactly 9 innings. Using the [league average innings pitched per season from 2018](http://www.espn.com/mlb/stats/team/_/stat/pitching/year/2018) and dividing by 162 games, we get 8.944 innings per game. That's close enough to 9 from above, but for fun:"
   ]
  },
  {
   "cell_type": "code",
   "execution_count": 106,
   "metadata": {},
   "outputs": [
    {
     "name": "stdout",
     "output_type": "stream",
     "text": [
      "Runs per game: 13.7331844238\n"
     ]
    }
   ],
   "source": [
    "print('Runs per game: %s' %(runs*8.994))"
   ]
  },
  {
   "cell_type": "markdown",
   "metadata": {},
   "source": [
    "So we wind up seeing roughly 0.1 runs more in the Monte Carlo. Where does this come from? Perhaps it is the extra innings: Markov Chains do not deal with the bottom of the ninth or extra innings. Let's test it:"
   ]
  },
  {
   "cell_type": "code",
   "execution_count": 109,
   "metadata": {},
   "outputs": [
    {
     "name": "stdout",
     "output_type": "stream",
     "text": [
      "1244\n"
     ]
    }
   ],
   "source": [
    "inns = 0\n",
    "for j in range(10000):\n",
    "    team1 = Play([0,0,0],0,0,0,0)\n",
    "    team2 = Play([0,0,0],0,0,0,0)\n",
    "    team = {1: team1, 2:team2}\n",
    "    runs = {1: 0, 2: 0}\n",
    "    ot = 0\n",
    "    while 1:\n",
    "        for i in [1, 2]:\n",
    "            if ot == 1:\n",
    "                team[i].inning = 9\n",
    "                inns += 1\n",
    "            while team[i].inning <= 9:\n",
    "                if i == 2 and team2.inning == 8 and runs[2] > runs[1]:\n",
    "                    #Subtract the bottom of the 9th\n",
    "                    inns -= 0.5\n",
    "                    break\n",
    "                else:\n",
    "                    dice = dice_roll()\n",
    "                    team[i] = funcs[dice](team[i])\n",
    "            runs[i] = team[i].runs\n",
    "        if runs[1] == runs[2]:\n",
    "            ot = 1\n",
    "        else:\n",
    "            break\n",
    "print(inns)"
   ]
  },
  {
   "cell_type": "markdown",
   "metadata": {},
   "source": [
    "So in 10,000 games, we saw 1244 extra innings of baseball. Since this is really 20,000 games (10,000 games * 2 teams), this averages out to about 0.06 innings extra per game above the standard 9. Since we are averaging ~14 runs per game, 0.06 innings is 0.09 runs per game, which explains the difference between our Monte Carlo simulation and the Markov chain calculations."
   ]
  }
 ],
 "metadata": {
  "kernelspec": {
   "display_name": "Python 3",
   "language": "python",
   "name": "python3"
  },
  "language_info": {
   "codemirror_mode": {
    "name": "ipython",
    "version": 3
   },
   "file_extension": ".py",
   "mimetype": "text/x-python",
   "name": "python",
   "nbconvert_exporter": "python",
   "pygments_lexer": "ipython3",
   "version": "3.6.2"
  }
 },
 "nbformat": 4,
 "nbformat_minor": 2
}
